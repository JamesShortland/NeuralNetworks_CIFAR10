{
 "cells": [
  {
   "cell_type": "code",
   "execution_count": 1,
   "id": "8a48d9ba-638f-4199-8478-bcf3b3582538",
   "metadata": {},
   "outputs": [],
   "source": [
    "import torch\n",
    "import torch.optim as optim\n",
    "import torch.nn as nn\n",
    "import torch.nn.functional as F\n",
    "import torchvision\n",
    "import torchvision.transforms as transforms\n",
    "import matplotlib.pyplot as plt\n",
    "\n",
    "from tqdm import tqdm"
   ]
  },
  {
   "cell_type": "code",
   "execution_count": 2,
   "id": "67c6c433-3fd6-4dbd-ae8c-8d3b5b927233",
   "metadata": {},
   "outputs": [
    {
     "name": "stdout",
     "output_type": "stream",
     "text": [
      "Using device: cuda\n",
      "Files already downloaded and verified\n",
      "Files already downloaded and verified\n"
     ]
    }
   ],
   "source": [
    "train_batch_losses = []\n",
    "train_epoch_accuracies = []\n",
    "test_epoch_accuracies = []\n",
    "\n",
    "device = (\n",
    "    \"cuda\" if torch.cuda.is_available()\n",
    "    else \"mps\" if torch.backends.mps.is_available()\n",
    "    else \"cpu\")\n",
    "print(f\"Using device: {device}\")\n",
    "\n",
    "best_test_accuracy = 0.0\n",
    "best_model_state = None\n",
    "\n",
    "test_transform = transforms.Compose([\n",
    "    transforms.ToTensor(),\n",
    "    transforms.Normalize((0.5, 0.5, 0.5), (0.5, 0.5, 0.5))])\n",
    "\n",
    "train_transform = transforms.Compose([\n",
    "    transforms.RandomCrop(32, padding=4),\n",
    "    transforms.RandomHorizontalFlip(),\n",
    "    transforms.ColorJitter(brightness=0.2, contrast=0.2, saturation=0.2),\n",
    "    transforms.ToTensor(),\n",
    "    transforms.Normalize((0.5, 0.5, 0.5), (0.5, 0.5, 0.5))\n",
    "])\n",
    "\n",
    "training_set = torchvision.datasets.CIFAR10(root='./data', train=True,\n",
    "                                            download=True, \n",
    "                                            transform=train_transform)\n",
    "\n",
    "training_loader = torch.utils.data.DataLoader(training_set, batch_size=64,\n",
    "                                              shuffle=True, num_workers=2)\n",
    "\n",
    "test_set = torchvision.datasets.CIFAR10(root='./data', train=False,\n",
    "                                        download=True, transform=test_transform)\n",
    "\n",
    "test_loader = torch.utils.data.DataLoader(test_set, batch_size=64,\n",
    "                                          shuffle=True, num_workers=2)\n",
    "\n",
    "classes = ['plane', 'car', 'bird', 'cat', 'deer', 'dog', 'frog',\n",
    "           'horse', 'ship', 'truck']"
   ]
  },
  {
   "cell_type": "code",
   "execution_count": 3,
   "id": "53d463a3-78d2-4054-a450-40a24f6993b3",
   "metadata": {},
   "outputs": [],
   "source": [
    "class Block(nn.Module):\n",
    "    def __init__(self, in_channels, out_channels, num_conv, num_kernel_size, num_padding):\n",
    "        super(Block, self).__init__()\n",
    "\n",
    "        self.num_conv = num_conv\n",
    "\n",
    "        for i in range(num_conv):\n",
    "            conv_layer = nn.Conv2d(in_channels, out_channels,\n",
    "                                   kernel_size=num_kernel_size,\n",
    "                                   padding=num_padding)\n",
    "\n",
    "            nn.init.kaiming_normal_(conv_layer.weight, mode='fan_in', nonlinearity='relu')\n",
    "            if conv_layer.bias is not None:\n",
    "                nn.init.constant_(conv_layer.bias, 0)\n",
    "\n",
    "            conv = nn.Sequential(\n",
    "                conv_layer,\n",
    "                nn.BatchNorm2d(out_channels),\n",
    "                nn.ReLU(inplace=True))\n",
    "\n",
    "            setattr(self, f'conv{i + 1}', conv)\n",
    "\n",
    "        self.fc = nn.Linear(in_channels, num_conv)\n",
    "        nn.init.kaiming_normal_(self.fc.weight, mode='fan_in', nonlinearity='relu')\n",
    "        if self.fc.bias is not None:\n",
    "            nn.init.constant_(self.fc.bias, 0)\n",
    "\n",
    "        self.pool = nn.MaxPool2d(2, 2)\n",
    "\n",
    "    def forward(self, x):\n",
    "        m = x.mean(dim=[2, 3])\n",
    "        a = self.fc(m)\n",
    "        a = F.softmax(a, dim=1)\n",
    "\n",
    "        out = torch.zeros_like(getattr(self, 'conv1')(x))\n",
    "\n",
    "        for i in range(self.num_conv):\n",
    "            conv = getattr(self, f'conv{i + 1}')\n",
    "            out += a[:, i].view(-1, 1, 1, 1) * conv(x)\n",
    "\n",
    "        out = self.pool(out)\n",
    "        return out"
   ]
  },
  {
   "cell_type": "code",
   "execution_count": 4,
   "id": "1480d5a8-90d7-4fea-b235-5482a2d41a65",
   "metadata": {},
   "outputs": [],
   "source": [
    "class ConvNet(nn.Module):\n",
    "    def __init__(self, block_configs, num_classes=10):\n",
    "        super(ConvNet, self).__init__()\n",
    "\n",
    "        self.blocks = nn.ModuleList()\n",
    "\n",
    "        for i, cfg in enumerate(block_configs):\n",
    "            in_ch = cfg['in_channels']\n",
    "            out_ch = cfg['out_channels']\n",
    "            num_conv = cfg['num_conv']\n",
    "            num_kernel_size = cfg['num_kernel_size']\n",
    "            num_padding = cfg['num_padding']\n",
    "\n",
    "            self.blocks.append(Block(in_ch, out_ch, num_conv, num_kernel_size, num_padding))\n",
    "\n",
    "        final_out_channels = block_configs[-1]['out_channels']\n",
    "        self.output_layer = nn.Sequential(\n",
    "            nn.Dropout(0.3),\n",
    "            nn.Linear(final_out_channels, num_classes))\n",
    "\n",
    "    def forward(self, x):\n",
    "        for block in self.blocks:\n",
    "            x = block(x)\n",
    "\n",
    "        m = x.mean(dim=[2, 3])\n",
    "        logits = self.output_layer(m)\n",
    "\n",
    "        return logits"
   ]
  },
  {
   "cell_type": "code",
   "execution_count": 5,
   "id": "be26e205-6b9e-45ec-a64e-c3e6dc4bb32e",
   "metadata": {},
   "outputs": [],
   "source": [
    "model = ConvNet(block_configs=[\n",
    "    {'in_channels': 3, 'out_channels': 64, 'num_conv': 5, 'num_kernel_size': 5, 'num_padding': 2},\n",
    "    {'in_channels': 64, 'out_channels': 128, 'num_conv': 5, 'num_kernel_size': 3, 'num_padding': 1},\n",
    "    {'in_channels': 128, 'out_channels': 256, 'num_conv': 5, 'num_kernel_size': 3, 'num_padding': 1},\n",
    "    {'in_channels': 256, 'out_channels': 512, 'num_conv': 5, 'num_kernel_size': 3, 'num_padding': 1}])\n"
   ]
  },
  {
   "cell_type": "code",
   "execution_count": 6,
   "id": "5ff05e9a-b328-4338-a5f5-d10ac3b74b89",
   "metadata": {},
   "outputs": [
    {
     "name": "stdout",
     "output_type": "stream",
     "text": [
      "Model is actually on: cuda:0\n"
     ]
    },
    {
     "name": "stderr",
     "output_type": "stream",
     "text": [
      "Epoch 1/150:   0%|          | 0/782 [00:00<?, ?it/s]/opt/conda/lib/python3.11/site-packages/torch/nn/modules/conv.py:456: UserWarning: Applied workaround for CuDNN issue, install nvrtc.so (Triggered internally at /opt/conda/conda-bld/pytorch_1702400440653/work/aten/src/ATen/native/cudnn/Conv_v8.cpp:80.)\n",
      "  return F.conv2d(input, weight, bias, self.stride,\n",
      "Epoch 1/150: 100%|██████████| 782/782 [00:38<00:00, 20.08it/s]\n"
     ]
    },
    {
     "name": "stdout",
     "output_type": "stream",
     "text": [
      "Test Accuracy: 50.58%\n",
      "This was the best model yet!\n",
      "Epoch 1 - Loss: 1.8510 | Train Accuracy: 39.06% | Test Accuracy: 50.58%\n"
     ]
    },
    {
     "name": "stderr",
     "output_type": "stream",
     "text": [
      "Epoch 2/150: 100%|██████████| 782/782 [00:36<00:00, 21.27it/s]\n"
     ]
    },
    {
     "name": "stdout",
     "output_type": "stream",
     "text": [
      "Test Accuracy: 66.06%\n",
      "This was the best model yet!\n",
      "Epoch 2 - Loss: 1.3973 | Train Accuracy: 60.23% | Test Accuracy: 66.06%\n"
     ]
    },
    {
     "name": "stderr",
     "output_type": "stream",
     "text": [
      "Epoch 3/150: 100%|██████████| 782/782 [00:37<00:00, 20.82it/s]\n"
     ]
    },
    {
     "name": "stdout",
     "output_type": "stream",
     "text": [
      "Test Accuracy: 67.63%\n",
      "This was the best model yet!\n",
      "Epoch 3 - Loss: 1.2216 | Train Accuracy: 69.41% | Test Accuracy: 67.63%\n"
     ]
    },
    {
     "name": "stderr",
     "output_type": "stream",
     "text": [
      "Epoch 4/150: 100%|██████████| 782/782 [00:36<00:00, 21.38it/s]\n"
     ]
    },
    {
     "name": "stdout",
     "output_type": "stream",
     "text": [
      "Test Accuracy: 76.34%\n",
      "This was the best model yet!\n",
      "Epoch 4 - Loss: 1.1434 | Train Accuracy: 73.06% | Test Accuracy: 76.34%\n"
     ]
    },
    {
     "name": "stderr",
     "output_type": "stream",
     "text": [
      "Epoch 5/150: 100%|██████████| 782/782 [00:36<00:00, 21.18it/s]\n"
     ]
    },
    {
     "name": "stdout",
     "output_type": "stream",
     "text": [
      "Test Accuracy: 78.08%\n",
      "This was the best model yet!\n",
      "Epoch 5 - Loss: 1.0898 | Train Accuracy: 75.92% | Test Accuracy: 78.08%\n"
     ]
    },
    {
     "name": "stderr",
     "output_type": "stream",
     "text": [
      "Epoch 6/150: 100%|██████████| 782/782 [00:38<00:00, 20.49it/s]\n"
     ]
    },
    {
     "name": "stdout",
     "output_type": "stream",
     "text": [
      "Test Accuracy: 79.65%\n",
      "This was the best model yet!\n",
      "Epoch 6 - Loss: 1.0476 | Train Accuracy: 78.03% | Test Accuracy: 79.65%\n"
     ]
    },
    {
     "name": "stderr",
     "output_type": "stream",
     "text": [
      "Epoch 7/150: 100%|██████████| 782/782 [00:36<00:00, 21.63it/s]\n"
     ]
    },
    {
     "name": "stdout",
     "output_type": "stream",
     "text": [
      "Test Accuracy: 78.78%\n",
      "Epoch 7 - Loss: 1.0217 | Train Accuracy: 79.15% | Test Accuracy: 78.78%\n"
     ]
    },
    {
     "name": "stderr",
     "output_type": "stream",
     "text": [
      "Epoch 8/150: 100%|██████████| 782/782 [00:38<00:00, 20.29it/s]\n"
     ]
    },
    {
     "name": "stdout",
     "output_type": "stream",
     "text": [
      "Test Accuracy: 79.99%\n",
      "This was the best model yet!\n",
      "Epoch 8 - Loss: 1.0016 | Train Accuracy: 80.28% | Test Accuracy: 79.99%\n"
     ]
    },
    {
     "name": "stderr",
     "output_type": "stream",
     "text": [
      "Epoch 9/150: 100%|██████████| 782/782 [00:34<00:00, 22.59it/s]\n"
     ]
    },
    {
     "name": "stdout",
     "output_type": "stream",
     "text": [
      "Test Accuracy: 80.98%\n",
      "This was the best model yet!\n",
      "Epoch 9 - Loss: 0.9794 | Train Accuracy: 81.47% | Test Accuracy: 80.98%\n"
     ]
    },
    {
     "name": "stderr",
     "output_type": "stream",
     "text": [
      "Epoch 10/150: 100%|██████████| 782/782 [00:38<00:00, 20.39it/s]\n"
     ]
    },
    {
     "name": "stdout",
     "output_type": "stream",
     "text": [
      "Test Accuracy: 81.83%\n",
      "This was the best model yet!\n",
      "Epoch 10 - Loss: 0.9633 | Train Accuracy: 82.12% | Test Accuracy: 81.83%\n"
     ]
    },
    {
     "name": "stderr",
     "output_type": "stream",
     "text": [
      "Epoch 11/150: 100%|██████████| 782/782 [00:35<00:00, 21.85it/s]\n"
     ]
    },
    {
     "name": "stdout",
     "output_type": "stream",
     "text": [
      "Test Accuracy: 81.97%\n",
      "This was the best model yet!\n",
      "Epoch 11 - Loss: 0.9496 | Train Accuracy: 82.86% | Test Accuracy: 81.97%\n"
     ]
    },
    {
     "name": "stderr",
     "output_type": "stream",
     "text": [
      "Epoch 12/150: 100%|██████████| 782/782 [00:32<00:00, 24.37it/s]\n"
     ]
    },
    {
     "name": "stdout",
     "output_type": "stream",
     "text": [
      "Test Accuracy: 83.37%\n",
      "This was the best model yet!\n",
      "Epoch 12 - Loss: 0.9396 | Train Accuracy: 83.35% | Test Accuracy: 83.37%\n"
     ]
    },
    {
     "name": "stderr",
     "output_type": "stream",
     "text": [
      "Epoch 13/150: 100%|██████████| 782/782 [00:37<00:00, 20.68it/s]\n"
     ]
    },
    {
     "name": "stdout",
     "output_type": "stream",
     "text": [
      "Test Accuracy: 84.20%\n",
      "This was the best model yet!\n",
      "Epoch 13 - Loss: 0.9283 | Train Accuracy: 83.71% | Test Accuracy: 84.20%\n"
     ]
    },
    {
     "name": "stderr",
     "output_type": "stream",
     "text": [
      "Epoch 14/150: 100%|██████████| 782/782 [00:35<00:00, 21.82it/s]\n"
     ]
    },
    {
     "name": "stdout",
     "output_type": "stream",
     "text": [
      "Test Accuracy: 83.82%\n",
      "Epoch 14 - Loss: 0.9171 | Train Accuracy: 84.36% | Test Accuracy: 83.82%\n"
     ]
    },
    {
     "name": "stderr",
     "output_type": "stream",
     "text": [
      "Epoch 15/150: 100%|██████████| 782/782 [00:38<00:00, 20.29it/s]\n"
     ]
    },
    {
     "name": "stdout",
     "output_type": "stream",
     "text": [
      "Test Accuracy: 83.96%\n",
      "Epoch 15 - Loss: 0.9059 | Train Accuracy: 85.05% | Test Accuracy: 83.96%\n"
     ]
    },
    {
     "name": "stderr",
     "output_type": "stream",
     "text": [
      "Epoch 16/150: 100%|██████████| 782/782 [00:36<00:00, 21.69it/s]\n"
     ]
    },
    {
     "name": "stdout",
     "output_type": "stream",
     "text": [
      "Test Accuracy: 83.35%\n",
      "Epoch 16 - Loss: 0.8978 | Train Accuracy: 85.30% | Test Accuracy: 83.35%\n"
     ]
    },
    {
     "name": "stderr",
     "output_type": "stream",
     "text": [
      "Epoch 17/150: 100%|██████████| 782/782 [00:38<00:00, 20.47it/s]\n"
     ]
    },
    {
     "name": "stdout",
     "output_type": "stream",
     "text": [
      "Test Accuracy: 85.27%\n",
      "This was the best model yet!\n",
      "Epoch 17 - Loss: 0.8927 | Train Accuracy: 85.58% | Test Accuracy: 85.27%\n"
     ]
    },
    {
     "name": "stderr",
     "output_type": "stream",
     "text": [
      "Epoch 18/150: 100%|██████████| 782/782 [00:42<00:00, 18.46it/s]\n"
     ]
    },
    {
     "name": "stdout",
     "output_type": "stream",
     "text": [
      "Test Accuracy: 84.63%\n",
      "Epoch 18 - Loss: 0.8855 | Train Accuracy: 85.95% | Test Accuracy: 84.63%\n"
     ]
    },
    {
     "name": "stderr",
     "output_type": "stream",
     "text": [
      "Epoch 19/150: 100%|██████████| 782/782 [00:50<00:00, 15.52it/s]\n"
     ]
    },
    {
     "name": "stdout",
     "output_type": "stream",
     "text": [
      "Test Accuracy: 84.54%\n",
      "Epoch 19 - Loss: 0.8737 | Train Accuracy: 86.59% | Test Accuracy: 84.54%\n"
     ]
    },
    {
     "name": "stderr",
     "output_type": "stream",
     "text": [
      "Epoch 20/150: 100%|██████████| 782/782 [00:49<00:00, 15.73it/s]\n"
     ]
    },
    {
     "name": "stdout",
     "output_type": "stream",
     "text": [
      "Test Accuracy: 83.81%\n",
      "Epoch 20 - Loss: 0.8691 | Train Accuracy: 86.74% | Test Accuracy: 83.81%\n"
     ]
    },
    {
     "name": "stderr",
     "output_type": "stream",
     "text": [
      "Epoch 21/150: 100%|██████████| 782/782 [00:49<00:00, 15.94it/s]\n"
     ]
    },
    {
     "name": "stdout",
     "output_type": "stream",
     "text": [
      "Test Accuracy: 84.29%\n",
      "Epoch 21 - Loss: 0.8665 | Train Accuracy: 86.81% | Test Accuracy: 84.29%\n"
     ]
    },
    {
     "name": "stderr",
     "output_type": "stream",
     "text": [
      "Epoch 22/150: 100%|██████████| 782/782 [00:50<00:00, 15.55it/s]\n"
     ]
    },
    {
     "name": "stdout",
     "output_type": "stream",
     "text": [
      "Test Accuracy: 84.03%\n",
      "Epoch 22 - Loss: 0.8566 | Train Accuracy: 87.23% | Test Accuracy: 84.03%\n"
     ]
    },
    {
     "name": "stderr",
     "output_type": "stream",
     "text": [
      "Epoch 23/150: 100%|██████████| 782/782 [00:48<00:00, 16.00it/s]\n"
     ]
    },
    {
     "name": "stdout",
     "output_type": "stream",
     "text": [
      "Test Accuracy: 85.37%\n",
      "This was the best model yet!\n",
      "Epoch 23 - Loss: 0.8557 | Train Accuracy: 87.32% | Test Accuracy: 85.37%\n"
     ]
    },
    {
     "name": "stderr",
     "output_type": "stream",
     "text": [
      "Epoch 24/150: 100%|██████████| 782/782 [00:50<00:00, 15.37it/s]\n"
     ]
    },
    {
     "name": "stdout",
     "output_type": "stream",
     "text": [
      "Test Accuracy: 85.07%\n",
      "Epoch 24 - Loss: 0.8458 | Train Accuracy: 87.90% | Test Accuracy: 85.07%\n"
     ]
    },
    {
     "name": "stderr",
     "output_type": "stream",
     "text": [
      "Epoch 25/150: 100%|██████████| 782/782 [00:47<00:00, 16.30it/s]\n"
     ]
    },
    {
     "name": "stdout",
     "output_type": "stream",
     "text": [
      "Test Accuracy: 84.28%\n",
      "Epoch 25 - Loss: 0.8439 | Train Accuracy: 87.86% | Test Accuracy: 84.28%\n"
     ]
    },
    {
     "name": "stderr",
     "output_type": "stream",
     "text": [
      "Epoch 26/150: 100%|██████████| 782/782 [00:53<00:00, 14.69it/s]\n"
     ]
    },
    {
     "name": "stdout",
     "output_type": "stream",
     "text": [
      "Test Accuracy: 84.86%\n",
      "Epoch 26 - Loss: 0.8385 | Train Accuracy: 88.36% | Test Accuracy: 84.86%\n"
     ]
    },
    {
     "name": "stderr",
     "output_type": "stream",
     "text": [
      "Epoch 27/150: 100%|██████████| 782/782 [01:01<00:00, 12.70it/s]\n"
     ]
    },
    {
     "name": "stdout",
     "output_type": "stream",
     "text": [
      "Test Accuracy: 85.47%\n",
      "This was the best model yet!\n",
      "Epoch 27 - Loss: 0.8370 | Train Accuracy: 88.23% | Test Accuracy: 85.47%\n"
     ]
    },
    {
     "name": "stderr",
     "output_type": "stream",
     "text": [
      "Epoch 28/150: 100%|██████████| 782/782 [01:01<00:00, 12.74it/s]\n"
     ]
    },
    {
     "name": "stdout",
     "output_type": "stream",
     "text": [
      "Test Accuracy: 84.63%\n",
      "Epoch 28 - Loss: 0.8292 | Train Accuracy: 88.58% | Test Accuracy: 84.63%\n"
     ]
    },
    {
     "name": "stderr",
     "output_type": "stream",
     "text": [
      "Epoch 29/150: 100%|██████████| 782/782 [01:01<00:00, 12.68it/s]\n"
     ]
    },
    {
     "name": "stdout",
     "output_type": "stream",
     "text": [
      "Test Accuracy: 85.80%\n",
      "This was the best model yet!\n",
      "Epoch 29 - Loss: 0.8286 | Train Accuracy: 88.58% | Test Accuracy: 85.80%\n"
     ]
    },
    {
     "name": "stderr",
     "output_type": "stream",
     "text": [
      "Epoch 30/150: 100%|██████████| 782/782 [01:01<00:00, 12.62it/s]\n"
     ]
    },
    {
     "name": "stdout",
     "output_type": "stream",
     "text": [
      "Test Accuracy: 86.14%\n",
      "This was the best model yet!\n",
      "Epoch 30 - Loss: 0.8224 | Train Accuracy: 88.87% | Test Accuracy: 86.14%\n"
     ]
    },
    {
     "name": "stderr",
     "output_type": "stream",
     "text": [
      "Epoch 31/150: 100%|██████████| 782/782 [00:57<00:00, 13.63it/s]\n"
     ]
    },
    {
     "name": "stdout",
     "output_type": "stream",
     "text": [
      "Test Accuracy: 84.04%\n",
      "Epoch 31 - Loss: 0.8231 | Train Accuracy: 88.98% | Test Accuracy: 84.04%\n"
     ]
    },
    {
     "name": "stderr",
     "output_type": "stream",
     "text": [
      "Epoch 32/150: 100%|██████████| 782/782 [00:53<00:00, 14.71it/s]\n"
     ]
    },
    {
     "name": "stdout",
     "output_type": "stream",
     "text": [
      "Test Accuracy: 85.48%\n",
      "Epoch 32 - Loss: 0.8149 | Train Accuracy: 89.16% | Test Accuracy: 85.48%\n"
     ]
    },
    {
     "name": "stderr",
     "output_type": "stream",
     "text": [
      "Epoch 33/150: 100%|██████████| 782/782 [00:51<00:00, 15.14it/s]\n"
     ]
    },
    {
     "name": "stdout",
     "output_type": "stream",
     "text": [
      "Test Accuracy: 86.21%\n",
      "This was the best model yet!\n",
      "Epoch 33 - Loss: 0.8154 | Train Accuracy: 89.10% | Test Accuracy: 86.21%\n"
     ]
    },
    {
     "name": "stderr",
     "output_type": "stream",
     "text": [
      "Epoch 34/150: 100%|██████████| 782/782 [00:53<00:00, 14.73it/s]\n"
     ]
    },
    {
     "name": "stdout",
     "output_type": "stream",
     "text": [
      "Test Accuracy: 84.62%\n",
      "Epoch 34 - Loss: 0.8077 | Train Accuracy: 89.73% | Test Accuracy: 84.62%\n"
     ]
    },
    {
     "name": "stderr",
     "output_type": "stream",
     "text": [
      "Epoch 35/150: 100%|██████████| 782/782 [00:50<00:00, 15.43it/s]\n"
     ]
    },
    {
     "name": "stdout",
     "output_type": "stream",
     "text": [
      "Test Accuracy: 85.66%\n",
      "Epoch 35 - Loss: 0.8084 | Train Accuracy: 89.65% | Test Accuracy: 85.66%\n"
     ]
    },
    {
     "name": "stderr",
     "output_type": "stream",
     "text": [
      "Epoch 36/150: 100%|██████████| 782/782 [00:52<00:00, 14.80it/s]\n"
     ]
    },
    {
     "name": "stdout",
     "output_type": "stream",
     "text": [
      "Test Accuracy: 84.45%\n",
      "Epoch 36 - Loss: 0.8027 | Train Accuracy: 90.04% | Test Accuracy: 84.45%\n"
     ]
    },
    {
     "name": "stderr",
     "output_type": "stream",
     "text": [
      "Epoch 37/150: 100%|██████████| 782/782 [00:51<00:00, 15.13it/s]\n"
     ]
    },
    {
     "name": "stdout",
     "output_type": "stream",
     "text": [
      "Test Accuracy: 86.14%\n",
      "Epoch 37 - Loss: 0.8011 | Train Accuracy: 89.90% | Test Accuracy: 86.14%\n"
     ]
    },
    {
     "name": "stderr",
     "output_type": "stream",
     "text": [
      "Epoch 38/150: 100%|██████████| 782/782 [00:51<00:00, 15.13it/s]\n"
     ]
    },
    {
     "name": "stdout",
     "output_type": "stream",
     "text": [
      "Test Accuracy: 85.96%\n",
      "Epoch 38 - Loss: 0.7970 | Train Accuracy: 90.24% | Test Accuracy: 85.96%\n"
     ]
    },
    {
     "name": "stderr",
     "output_type": "stream",
     "text": [
      "Epoch 39/150: 100%|██████████| 782/782 [00:52<00:00, 15.03it/s]\n"
     ]
    },
    {
     "name": "stdout",
     "output_type": "stream",
     "text": [
      "Test Accuracy: 86.24%\n",
      "This was the best model yet!\n",
      "Epoch 39 - Loss: 0.7930 | Train Accuracy: 90.27% | Test Accuracy: 86.24%\n"
     ]
    },
    {
     "name": "stderr",
     "output_type": "stream",
     "text": [
      "Epoch 40/150: 100%|██████████| 782/782 [00:50<00:00, 15.46it/s]\n"
     ]
    },
    {
     "name": "stdout",
     "output_type": "stream",
     "text": [
      "Test Accuracy: 85.60%\n",
      "Epoch 40 - Loss: 0.7923 | Train Accuracy: 90.45% | Test Accuracy: 85.60%\n"
     ]
    },
    {
     "name": "stderr",
     "output_type": "stream",
     "text": [
      "Epoch 41/150: 100%|██████████| 782/782 [00:53<00:00, 14.70it/s]\n"
     ]
    },
    {
     "name": "stdout",
     "output_type": "stream",
     "text": [
      "Test Accuracy: 87.18%\n",
      "This was the best model yet!\n",
      "Epoch 41 - Loss: 0.7864 | Train Accuracy: 90.74% | Test Accuracy: 87.18%\n"
     ]
    },
    {
     "name": "stderr",
     "output_type": "stream",
     "text": [
      "Epoch 42/150: 100%|██████████| 782/782 [00:50<00:00, 15.49it/s]\n"
     ]
    },
    {
     "name": "stdout",
     "output_type": "stream",
     "text": [
      "Test Accuracy: 87.18%\n",
      "Epoch 42 - Loss: 0.7866 | Train Accuracy: 90.63% | Test Accuracy: 87.18%\n"
     ]
    },
    {
     "name": "stderr",
     "output_type": "stream",
     "text": [
      "Epoch 43/150: 100%|██████████| 782/782 [00:52<00:00, 14.79it/s]\n"
     ]
    },
    {
     "name": "stdout",
     "output_type": "stream",
     "text": [
      "Test Accuracy: 85.29%\n",
      "Epoch 43 - Loss: 0.7858 | Train Accuracy: 90.65% | Test Accuracy: 85.29%\n"
     ]
    },
    {
     "name": "stderr",
     "output_type": "stream",
     "text": [
      "Epoch 44/150: 100%|██████████| 782/782 [00:51<00:00, 15.28it/s]\n"
     ]
    },
    {
     "name": "stdout",
     "output_type": "stream",
     "text": [
      "Test Accuracy: 85.72%\n",
      "Epoch 44 - Loss: 0.7793 | Train Accuracy: 91.04% | Test Accuracy: 85.72%\n"
     ]
    },
    {
     "name": "stderr",
     "output_type": "stream",
     "text": [
      "Epoch 45/150: 100%|██████████| 782/782 [00:52<00:00, 14.99it/s]\n"
     ]
    },
    {
     "name": "stdout",
     "output_type": "stream",
     "text": [
      "Test Accuracy: 83.82%\n",
      "Epoch 45 - Loss: 0.7788 | Train Accuracy: 91.03% | Test Accuracy: 83.82%\n"
     ]
    },
    {
     "name": "stderr",
     "output_type": "stream",
     "text": [
      "Epoch 46/150: 100%|██████████| 782/782 [00:51<00:00, 15.20it/s]\n"
     ]
    },
    {
     "name": "stdout",
     "output_type": "stream",
     "text": [
      "Test Accuracy: 85.58%\n",
      "Epoch 46 - Loss: 0.7735 | Train Accuracy: 91.34% | Test Accuracy: 85.58%\n"
     ]
    },
    {
     "name": "stderr",
     "output_type": "stream",
     "text": [
      "Epoch 47/150: 100%|██████████| 782/782 [00:51<00:00, 15.22it/s]\n"
     ]
    },
    {
     "name": "stdout",
     "output_type": "stream",
     "text": [
      "Test Accuracy: 85.24%\n",
      "Epoch 47 - Loss: 0.7710 | Train Accuracy: 91.39% | Test Accuracy: 85.24%\n"
     ]
    },
    {
     "name": "stderr",
     "output_type": "stream",
     "text": [
      "Epoch 48/150: 100%|██████████| 782/782 [00:52<00:00, 14.81it/s]\n"
     ]
    },
    {
     "name": "stdout",
     "output_type": "stream",
     "text": [
      "Test Accuracy: 86.88%\n",
      "Epoch 48 - Loss: 0.7701 | Train Accuracy: 91.38% | Test Accuracy: 86.88%\n"
     ]
    },
    {
     "name": "stderr",
     "output_type": "stream",
     "text": [
      "Epoch 49/150: 100%|██████████| 782/782 [00:50<00:00, 15.43it/s]\n"
     ]
    },
    {
     "name": "stdout",
     "output_type": "stream",
     "text": [
      "Test Accuracy: 86.80%\n",
      "Epoch 49 - Loss: 0.7679 | Train Accuracy: 91.49% | Test Accuracy: 86.80%\n"
     ]
    },
    {
     "name": "stderr",
     "output_type": "stream",
     "text": [
      "Epoch 50/150: 100%|██████████| 782/782 [00:52<00:00, 14.99it/s]\n"
     ]
    },
    {
     "name": "stdout",
     "output_type": "stream",
     "text": [
      "Test Accuracy: 86.35%\n",
      "Epoch 50 - Loss: 0.7633 | Train Accuracy: 91.72% | Test Accuracy: 86.35%\n"
     ]
    },
    {
     "name": "stderr",
     "output_type": "stream",
     "text": [
      "Epoch 51/150: 100%|██████████| 782/782 [00:51<00:00, 15.33it/s]\n"
     ]
    },
    {
     "name": "stdout",
     "output_type": "stream",
     "text": [
      "Test Accuracy: 85.75%\n",
      "Epoch 51 - Loss: 0.7608 | Train Accuracy: 91.97% | Test Accuracy: 85.75%\n"
     ]
    },
    {
     "name": "stderr",
     "output_type": "stream",
     "text": [
      "Epoch 52/150: 100%|██████████| 782/782 [00:52<00:00, 14.84it/s]\n"
     ]
    },
    {
     "name": "stdout",
     "output_type": "stream",
     "text": [
      "Test Accuracy: 87.57%\n",
      "This was the best model yet!\n",
      "Epoch 52 - Loss: 0.7598 | Train Accuracy: 91.84% | Test Accuracy: 87.57%\n"
     ]
    },
    {
     "name": "stderr",
     "output_type": "stream",
     "text": [
      "Epoch 53/150: 100%|██████████| 782/782 [00:52<00:00, 14.96it/s]\n"
     ]
    },
    {
     "name": "stdout",
     "output_type": "stream",
     "text": [
      "Test Accuracy: 88.39%\n",
      "This was the best model yet!\n",
      "Epoch 53 - Loss: 0.7550 | Train Accuracy: 92.12% | Test Accuracy: 88.39%\n"
     ]
    },
    {
     "name": "stderr",
     "output_type": "stream",
     "text": [
      "Epoch 54/150: 100%|██████████| 782/782 [00:46<00:00, 16.68it/s]\n"
     ]
    },
    {
     "name": "stdout",
     "output_type": "stream",
     "text": [
      "Test Accuracy: 88.41%\n",
      "This was the best model yet!\n",
      "Epoch 54 - Loss: 0.7540 | Train Accuracy: 92.18% | Test Accuracy: 88.41%\n"
     ]
    },
    {
     "name": "stderr",
     "output_type": "stream",
     "text": [
      "Epoch 55/150: 100%|██████████| 782/782 [00:53<00:00, 14.74it/s]\n"
     ]
    },
    {
     "name": "stdout",
     "output_type": "stream",
     "text": [
      "Test Accuracy: 87.11%\n",
      "Epoch 55 - Loss: 0.7504 | Train Accuracy: 92.38% | Test Accuracy: 87.11%\n"
     ]
    },
    {
     "name": "stderr",
     "output_type": "stream",
     "text": [
      "Epoch 56/150: 100%|██████████| 782/782 [00:50<00:00, 15.62it/s]\n"
     ]
    },
    {
     "name": "stdout",
     "output_type": "stream",
     "text": [
      "Test Accuracy: 87.00%\n",
      "Epoch 56 - Loss: 0.7498 | Train Accuracy: 92.37% | Test Accuracy: 87.00%\n"
     ]
    },
    {
     "name": "stderr",
     "output_type": "stream",
     "text": [
      "Epoch 57/150: 100%|██████████| 782/782 [00:53<00:00, 14.71it/s]\n"
     ]
    },
    {
     "name": "stdout",
     "output_type": "stream",
     "text": [
      "Test Accuracy: 88.53%\n",
      "This was the best model yet!\n",
      "Epoch 57 - Loss: 0.7482 | Train Accuracy: 92.49% | Test Accuracy: 88.53%\n"
     ]
    },
    {
     "name": "stderr",
     "output_type": "stream",
     "text": [
      "Epoch 58/150: 100%|██████████| 782/782 [00:50<00:00, 15.53it/s]\n"
     ]
    },
    {
     "name": "stdout",
     "output_type": "stream",
     "text": [
      "Test Accuracy: 87.74%\n",
      "Epoch 58 - Loss: 0.7421 | Train Accuracy: 92.89% | Test Accuracy: 87.74%\n"
     ]
    },
    {
     "name": "stderr",
     "output_type": "stream",
     "text": [
      "Epoch 59/150: 100%|██████████| 782/782 [00:53<00:00, 14.75it/s]\n"
     ]
    },
    {
     "name": "stdout",
     "output_type": "stream",
     "text": [
      "Test Accuracy: 86.71%\n",
      "Epoch 59 - Loss: 0.7416 | Train Accuracy: 92.73% | Test Accuracy: 86.71%\n"
     ]
    },
    {
     "name": "stderr",
     "output_type": "stream",
     "text": [
      "Epoch 60/150: 100%|██████████| 782/782 [00:51<00:00, 15.18it/s]\n"
     ]
    },
    {
     "name": "stdout",
     "output_type": "stream",
     "text": [
      "Test Accuracy: 87.77%\n",
      "Epoch 60 - Loss: 0.7396 | Train Accuracy: 92.82% | Test Accuracy: 87.77%\n"
     ]
    },
    {
     "name": "stderr",
     "output_type": "stream",
     "text": [
      "Epoch 61/150: 100%|██████████| 782/782 [00:51<00:00, 15.16it/s]\n"
     ]
    },
    {
     "name": "stdout",
     "output_type": "stream",
     "text": [
      "Test Accuracy: 87.46%\n",
      "Epoch 61 - Loss: 0.7338 | Train Accuracy: 93.10% | Test Accuracy: 87.46%\n"
     ]
    },
    {
     "name": "stderr",
     "output_type": "stream",
     "text": [
      "Epoch 62/150: 100%|██████████| 782/782 [00:52<00:00, 14.78it/s]\n"
     ]
    },
    {
     "name": "stdout",
     "output_type": "stream",
     "text": [
      "Test Accuracy: 87.30%\n",
      "Epoch 62 - Loss: 0.7332 | Train Accuracy: 93.21% | Test Accuracy: 87.30%\n"
     ]
    },
    {
     "name": "stderr",
     "output_type": "stream",
     "text": [
      "Epoch 63/150: 100%|██████████| 782/782 [00:50<00:00, 15.39it/s]\n"
     ]
    },
    {
     "name": "stdout",
     "output_type": "stream",
     "text": [
      "Test Accuracy: 87.83%\n",
      "Epoch 63 - Loss: 0.7309 | Train Accuracy: 93.22% | Test Accuracy: 87.83%\n"
     ]
    },
    {
     "name": "stderr",
     "output_type": "stream",
     "text": [
      "Epoch 64/150: 100%|██████████| 782/782 [00:52<00:00, 14.85it/s]\n"
     ]
    },
    {
     "name": "stdout",
     "output_type": "stream",
     "text": [
      "Test Accuracy: 88.32%\n",
      "Epoch 64 - Loss: 0.7268 | Train Accuracy: 93.46% | Test Accuracy: 88.32%\n"
     ]
    },
    {
     "name": "stderr",
     "output_type": "stream",
     "text": [
      "Epoch 65/150: 100%|██████████| 782/782 [01:00<00:00, 12.85it/s]\n"
     ]
    },
    {
     "name": "stdout",
     "output_type": "stream",
     "text": [
      "Test Accuracy: 87.80%\n",
      "Epoch 65 - Loss: 0.7260 | Train Accuracy: 93.55% | Test Accuracy: 87.80%\n"
     ]
    },
    {
     "name": "stderr",
     "output_type": "stream",
     "text": [
      "Epoch 66/150: 100%|██████████| 782/782 [01:02<00:00, 12.47it/s]\n"
     ]
    },
    {
     "name": "stdout",
     "output_type": "stream",
     "text": [
      "Test Accuracy: 88.38%\n",
      "Epoch 66 - Loss: 0.7210 | Train Accuracy: 93.76% | Test Accuracy: 88.38%\n"
     ]
    },
    {
     "name": "stderr",
     "output_type": "stream",
     "text": [
      "Epoch 67/150: 100%|██████████| 782/782 [01:01<00:00, 12.71it/s]\n"
     ]
    },
    {
     "name": "stdout",
     "output_type": "stream",
     "text": [
      "Test Accuracy: 87.98%\n",
      "Epoch 67 - Loss: 0.7208 | Train Accuracy: 93.76% | Test Accuracy: 87.98%\n"
     ]
    },
    {
     "name": "stderr",
     "output_type": "stream",
     "text": [
      "Epoch 68/150:  71%|███████▏  | 559/782 [00:43<00:15, 14.68it/s]"
     ]
    },
    {
     "name": "stdout",
     "output_type": "stream",
     "text": [
      "Test Accuracy: 88.41%\n",
      "Epoch 68 - Loss: 0.7187 | Train Accuracy: 93.77% | Test Accuracy: 88.41%\n"
     ]
    },
    {
     "name": "stderr",
     "output_type": "stream",
     "text": [
      "Epoch 69/150: 100%|██████████| 782/782 [01:02<00:00, 12.59it/s]\n"
     ]
    },
    {
     "name": "stdout",
     "output_type": "stream",
     "text": [
      "Test Accuracy: 87.80%\n",
      "Epoch 69 - Loss: 0.7135 | Train Accuracy: 94.13% | Test Accuracy: 87.80%\n"
     ]
    },
    {
     "name": "stderr",
     "output_type": "stream",
     "text": [
      "Epoch 70/150: 100%|██████████| 782/782 [01:01<00:00, 12.74it/s]\n"
     ]
    },
    {
     "name": "stdout",
     "output_type": "stream",
     "text": [
      "Test Accuracy: 88.33%\n",
      "Epoch 70 - Loss: 0.7106 | Train Accuracy: 94.15% | Test Accuracy: 88.33%\n"
     ]
    },
    {
     "name": "stderr",
     "output_type": "stream",
     "text": [
      "Epoch 71/150: 100%|██████████| 782/782 [01:02<00:00, 12.42it/s]\n"
     ]
    },
    {
     "name": "stdout",
     "output_type": "stream",
     "text": [
      "Test Accuracy: 88.55%\n",
      "This was the best model yet!\n",
      "Epoch 71 - Loss: 0.7085 | Train Accuracy: 94.31% | Test Accuracy: 88.55%\n"
     ]
    },
    {
     "name": "stderr",
     "output_type": "stream",
     "text": [
      "Epoch 72/150: 100%|██████████| 782/782 [01:01<00:00, 12.75it/s]\n"
     ]
    },
    {
     "name": "stdout",
     "output_type": "stream",
     "text": [
      "Test Accuracy: 88.03%\n",
      "Epoch 72 - Loss: 0.7032 | Train Accuracy: 94.52% | Test Accuracy: 88.03%\n"
     ]
    },
    {
     "name": "stderr",
     "output_type": "stream",
     "text": [
      "Epoch 73/150: 100%|██████████| 782/782 [01:01<00:00, 12.71it/s]\n"
     ]
    },
    {
     "name": "stdout",
     "output_type": "stream",
     "text": [
      "Test Accuracy: 88.59%\n",
      "This was the best model yet!\n",
      "Epoch 73 - Loss: 0.7015 | Train Accuracy: 94.55% | Test Accuracy: 88.59%\n"
     ]
    },
    {
     "name": "stderr",
     "output_type": "stream",
     "text": [
      "Epoch 75/150: 100%|██████████| 782/782 [01:01<00:00, 12.82it/s]\n"
     ]
    },
    {
     "name": "stdout",
     "output_type": "stream",
     "text": [
      "Test Accuracy: 88.54%\n",
      "Epoch 75 - Loss: 0.7002 | Train Accuracy: 94.63% | Test Accuracy: 88.54%\n"
     ]
    },
    {
     "name": "stderr",
     "output_type": "stream",
     "text": [
      "Epoch 76/150: 100%|██████████| 782/782 [01:02<00:00, 12.58it/s]\n"
     ]
    },
    {
     "name": "stdout",
     "output_type": "stream",
     "text": [
      "Test Accuracy: 88.63%\n",
      "This was the best model yet!\n",
      "Epoch 76 - Loss: 0.6925 | Train Accuracy: 94.93% | Test Accuracy: 88.63%\n"
     ]
    },
    {
     "name": "stderr",
     "output_type": "stream",
     "text": [
      "Epoch 77/150: 100%|██████████| 782/782 [01:01<00:00, 12.75it/s]\n"
     ]
    },
    {
     "name": "stdout",
     "output_type": "stream",
     "text": [
      "Test Accuracy: 88.39%\n",
      "Epoch 77 - Loss: 0.6909 | Train Accuracy: 94.98% | Test Accuracy: 88.39%\n"
     ]
    },
    {
     "name": "stderr",
     "output_type": "stream",
     "text": [
      "Epoch 78/150: 100%|██████████| 782/782 [01:03<00:00, 12.41it/s]\n"
     ]
    },
    {
     "name": "stdout",
     "output_type": "stream",
     "text": [
      "Test Accuracy: 89.16%\n",
      "This was the best model yet!\n",
      "Epoch 78 - Loss: 0.6869 | Train Accuracy: 95.22% | Test Accuracy: 89.16%\n"
     ]
    },
    {
     "name": "stderr",
     "output_type": "stream",
     "text": [
      "Epoch 79/150: 100%|██████████| 782/782 [01:01<00:00, 12.73it/s]\n"
     ]
    },
    {
     "name": "stdout",
     "output_type": "stream",
     "text": [
      "Test Accuracy: 87.97%\n",
      "Epoch 79 - Loss: 0.6837 | Train Accuracy: 95.40% | Test Accuracy: 87.97%\n"
     ]
    },
    {
     "name": "stderr",
     "output_type": "stream",
     "text": [
      "Epoch 80/150: 100%|██████████| 782/782 [01:02<00:00, 12.57it/s]\n"
     ]
    },
    {
     "name": "stdout",
     "output_type": "stream",
     "text": [
      "Test Accuracy: 87.88%\n",
      "Epoch 80 - Loss: 0.6852 | Train Accuracy: 95.21% | Test Accuracy: 87.88%\n"
     ]
    },
    {
     "name": "stderr",
     "output_type": "stream",
     "text": [
      "Epoch 81/150: 100%|██████████| 782/782 [01:01<00:00, 12.72it/s]\n"
     ]
    },
    {
     "name": "stdout",
     "output_type": "stream",
     "text": [
      "Test Accuracy: 89.60%\n",
      "This was the best model yet!\n",
      "Epoch 81 - Loss: 0.6788 | Train Accuracy: 95.52% | Test Accuracy: 89.60%\n"
     ]
    },
    {
     "name": "stderr",
     "output_type": "stream",
     "text": [
      "Epoch 82/150: 100%|██████████| 782/782 [01:01<00:00, 12.72it/s]\n"
     ]
    },
    {
     "name": "stdout",
     "output_type": "stream",
     "text": [
      "Test Accuracy: 89.03%\n",
      "Epoch 82 - Loss: 0.6762 | Train Accuracy: 95.65% | Test Accuracy: 89.03%\n"
     ]
    },
    {
     "name": "stderr",
     "output_type": "stream",
     "text": [
      "Epoch 83/150: 100%|██████████| 782/782 [01:01<00:00, 12.71it/s]\n"
     ]
    },
    {
     "name": "stdout",
     "output_type": "stream",
     "text": [
      "Test Accuracy: 89.14%\n",
      "Epoch 83 - Loss: 0.6722 | Train Accuracy: 95.92% | Test Accuracy: 89.14%\n"
     ]
    },
    {
     "name": "stderr",
     "output_type": "stream",
     "text": [
      "Epoch 84/150: 100%|██████████| 782/782 [01:02<00:00, 12.60it/s]\n"
     ]
    },
    {
     "name": "stdout",
     "output_type": "stream",
     "text": [
      "Test Accuracy: 89.50%\n",
      "Epoch 84 - Loss: 0.6691 | Train Accuracy: 95.95% | Test Accuracy: 89.50%\n"
     ]
    },
    {
     "name": "stderr",
     "output_type": "stream",
     "text": [
      "Epoch 85/150: 100%|██████████| 782/782 [00:58<00:00, 13.29it/s]\n"
     ]
    },
    {
     "name": "stdout",
     "output_type": "stream",
     "text": [
      "Test Accuracy: 88.89%\n",
      "Epoch 85 - Loss: 0.6668 | Train Accuracy: 96.22% | Test Accuracy: 88.89%\n"
     ]
    },
    {
     "name": "stderr",
     "output_type": "stream",
     "text": [
      "Epoch 86/150: 100%|██████████| 782/782 [00:49<00:00, 15.69it/s]\n"
     ]
    },
    {
     "name": "stdout",
     "output_type": "stream",
     "text": [
      "Test Accuracy: 89.57%\n",
      "Epoch 86 - Loss: 0.6627 | Train Accuracy: 96.28% | Test Accuracy: 89.57%\n"
     ]
    },
    {
     "name": "stderr",
     "output_type": "stream",
     "text": [
      "Epoch 87/150: 100%|██████████| 782/782 [00:49<00:00, 15.86it/s]\n"
     ]
    },
    {
     "name": "stdout",
     "output_type": "stream",
     "text": [
      "Test Accuracy: 89.10%\n",
      "Epoch 87 - Loss: 0.6604 | Train Accuracy: 96.42% | Test Accuracy: 89.10%\n"
     ]
    },
    {
     "name": "stderr",
     "output_type": "stream",
     "text": [
      "Epoch 88/150: 100%|██████████| 782/782 [00:49<00:00, 15.65it/s]\n"
     ]
    },
    {
     "name": "stdout",
     "output_type": "stream",
     "text": [
      "Test Accuracy: 87.86%\n",
      "Epoch 88 - Loss: 0.6568 | Train Accuracy: 96.58% | Test Accuracy: 87.86%\n"
     ]
    },
    {
     "name": "stderr",
     "output_type": "stream",
     "text": [
      "Epoch 89/150: 100%|██████████| 782/782 [00:49<00:00, 15.91it/s]\n"
     ]
    },
    {
     "name": "stdout",
     "output_type": "stream",
     "text": [
      "Test Accuracy: 89.82%\n",
      "This was the best model yet!\n",
      "Epoch 89 - Loss: 0.6558 | Train Accuracy: 96.50% | Test Accuracy: 89.82%\n"
     ]
    },
    {
     "name": "stderr",
     "output_type": "stream",
     "text": [
      "Epoch 91/150: 100%|██████████| 782/782 [00:44<00:00, 17.70it/s]\n"
     ]
    },
    {
     "name": "stdout",
     "output_type": "stream",
     "text": [
      "Test Accuracy: 89.16%\n",
      "Epoch 91 - Loss: 0.6507 | Train Accuracy: 96.73% | Test Accuracy: 89.16%\n"
     ]
    },
    {
     "name": "stderr",
     "output_type": "stream",
     "text": [
      "Epoch 92/150: 100%|██████████| 782/782 [00:39<00:00, 19.63it/s]\n"
     ]
    },
    {
     "name": "stdout",
     "output_type": "stream",
     "text": [
      "Test Accuracy: 89.50%\n",
      "Epoch 92 - Loss: 0.6471 | Train Accuracy: 96.94% | Test Accuracy: 89.50%\n"
     ]
    },
    {
     "name": "stderr",
     "output_type": "stream",
     "text": [
      "Epoch 93/150: 100%|██████████| 782/782 [00:40<00:00, 19.35it/s]\n"
     ]
    },
    {
     "name": "stdout",
     "output_type": "stream",
     "text": [
      "Test Accuracy: 89.87%\n",
      "This was the best model yet!\n",
      "Epoch 93 - Loss: 0.6449 | Train Accuracy: 97.01% | Test Accuracy: 89.87%\n"
     ]
    },
    {
     "name": "stderr",
     "output_type": "stream",
     "text": [
      "Epoch 94/150: 100%|██████████| 782/782 [00:39<00:00, 19.75it/s]\n"
     ]
    },
    {
     "name": "stdout",
     "output_type": "stream",
     "text": [
      "Test Accuracy: 89.11%\n",
      "Epoch 94 - Loss: 0.6404 | Train Accuracy: 97.22% | Test Accuracy: 89.11%\n"
     ]
    },
    {
     "name": "stderr",
     "output_type": "stream",
     "text": [
      "Epoch 95/150: 100%|██████████| 782/782 [00:39<00:00, 19.78it/s]\n"
     ]
    },
    {
     "name": "stdout",
     "output_type": "stream",
     "text": [
      "Test Accuracy: 89.64%\n",
      "Epoch 95 - Loss: 0.6388 | Train Accuracy: 97.32% | Test Accuracy: 89.64%\n"
     ]
    },
    {
     "name": "stderr",
     "output_type": "stream",
     "text": [
      "Epoch 96/150: 100%|██████████| 782/782 [00:39<00:00, 19.80it/s]\n"
     ]
    },
    {
     "name": "stdout",
     "output_type": "stream",
     "text": [
      "Test Accuracy: 90.03%\n",
      "This was the best model yet!\n",
      "Epoch 96 - Loss: 0.6347 | Train Accuracy: 97.48% | Test Accuracy: 90.03%\n"
     ]
    },
    {
     "name": "stderr",
     "output_type": "stream",
     "text": [
      "Epoch 97/150: 100%|██████████| 782/782 [00:40<00:00, 19.54it/s]\n"
     ]
    },
    {
     "name": "stdout",
     "output_type": "stream",
     "text": [
      "Test Accuracy: 90.04%\n",
      "This was the best model yet!\n",
      "Epoch 97 - Loss: 0.6351 | Train Accuracy: 97.35% | Test Accuracy: 90.04%\n"
     ]
    },
    {
     "name": "stderr",
     "output_type": "stream",
     "text": [
      "Epoch 98/150: 100%|██████████| 782/782 [00:49<00:00, 15.85it/s]\n"
     ]
    },
    {
     "name": "stdout",
     "output_type": "stream",
     "text": [
      "Test Accuracy: 89.84%\n",
      "Epoch 98 - Loss: 0.6310 | Train Accuracy: 97.65% | Test Accuracy: 89.84%\n"
     ]
    },
    {
     "name": "stderr",
     "output_type": "stream",
     "text": [
      "Epoch 99/150: 100%|██████████| 782/782 [00:50<00:00, 15.61it/s]\n"
     ]
    },
    {
     "name": "stdout",
     "output_type": "stream",
     "text": [
      "Test Accuracy: 90.39%\n",
      "This was the best model yet!\n",
      "Epoch 99 - Loss: 0.6304 | Train Accuracy: 97.66% | Test Accuracy: 90.39%\n"
     ]
    },
    {
     "name": "stderr",
     "output_type": "stream",
     "text": [
      "Epoch 100/150: 100%|██████████| 782/782 [00:50<00:00, 15.49it/s]\n"
     ]
    },
    {
     "name": "stdout",
     "output_type": "stream",
     "text": [
      "Test Accuracy: 89.83%\n",
      "Epoch 100 - Loss: 0.6259 | Train Accuracy: 97.83% | Test Accuracy: 89.83%\n"
     ]
    },
    {
     "name": "stderr",
     "output_type": "stream",
     "text": [
      "Epoch 101/150: 100%|██████████| 782/782 [00:49<00:00, 15.84it/s]\n"
     ]
    },
    {
     "name": "stdout",
     "output_type": "stream",
     "text": [
      "Test Accuracy: 90.27%\n",
      "Epoch 101 - Loss: 0.6244 | Train Accuracy: 97.86% | Test Accuracy: 90.27%\n"
     ]
    },
    {
     "name": "stderr",
     "output_type": "stream",
     "text": [
      "Epoch 102/150: 100%|██████████| 782/782 [00:49<00:00, 15.73it/s]\n"
     ]
    },
    {
     "name": "stdout",
     "output_type": "stream",
     "text": [
      "Test Accuracy: 90.07%\n",
      "Epoch 102 - Loss: 0.6218 | Train Accuracy: 98.00% | Test Accuracy: 90.07%\n"
     ]
    },
    {
     "name": "stderr",
     "output_type": "stream",
     "text": [
      "Epoch 103/150: 100%|██████████| 782/782 [00:49<00:00, 15.66it/s]\n"
     ]
    },
    {
     "name": "stdout",
     "output_type": "stream",
     "text": [
      "Test Accuracy: 90.31%\n",
      "Epoch 103 - Loss: 0.6185 | Train Accuracy: 98.11% | Test Accuracy: 90.31%\n"
     ]
    },
    {
     "name": "stderr",
     "output_type": "stream",
     "text": [
      "Epoch 104/150: 100%|██████████| 782/782 [00:50<00:00, 15.47it/s]\n"
     ]
    },
    {
     "name": "stdout",
     "output_type": "stream",
     "text": [
      "Test Accuracy: 89.55%\n",
      "Epoch 104 - Loss: 0.6165 | Train Accuracy: 98.23% | Test Accuracy: 89.55%\n"
     ]
    },
    {
     "name": "stderr",
     "output_type": "stream",
     "text": [
      "Epoch 105/150: 100%|██████████| 782/782 [00:50<00:00, 15.37it/s]\n"
     ]
    },
    {
     "name": "stdout",
     "output_type": "stream",
     "text": [
      "Test Accuracy: 90.23%\n",
      "Epoch 105 - Loss: 0.6147 | Train Accuracy: 98.22% | Test Accuracy: 90.23%\n"
     ]
    },
    {
     "name": "stderr",
     "output_type": "stream",
     "text": [
      "Epoch 106/150: 100%|██████████| 782/782 [00:49<00:00, 15.90it/s]\n"
     ]
    },
    {
     "name": "stdout",
     "output_type": "stream",
     "text": [
      "Test Accuracy: 90.56%\n",
      "This was the best model yet!\n",
      "Epoch 106 - Loss: 0.6109 | Train Accuracy: 98.43% | Test Accuracy: 90.56%\n"
     ]
    },
    {
     "name": "stderr",
     "output_type": "stream",
     "text": [
      "Epoch 107/150: 100%|██████████| 782/782 [00:40<00:00, 19.15it/s]\n"
     ]
    },
    {
     "name": "stdout",
     "output_type": "stream",
     "text": [
      "Test Accuracy: 90.47%\n",
      "Epoch 107 - Loss: 0.6093 | Train Accuracy: 98.46% | Test Accuracy: 90.47%\n"
     ]
    },
    {
     "name": "stderr",
     "output_type": "stream",
     "text": [
      "Epoch 108/150: 100%|██████████| 782/782 [00:47<00:00, 16.43it/s]\n"
     ]
    },
    {
     "name": "stdout",
     "output_type": "stream",
     "text": [
      "Test Accuracy: 90.78%\n",
      "This was the best model yet!\n",
      "Epoch 108 - Loss: 0.6082 | Train Accuracy: 98.48% | Test Accuracy: 90.78%\n"
     ]
    },
    {
     "name": "stderr",
     "output_type": "stream",
     "text": [
      "Epoch 109/150: 100%|██████████| 782/782 [00:45<00:00, 17.12it/s]\n"
     ]
    },
    {
     "name": "stdout",
     "output_type": "stream",
     "text": [
      "Test Accuracy: 90.91%\n",
      "This was the best model yet!\n",
      "Epoch 109 - Loss: 0.6059 | Train Accuracy: 98.51% | Test Accuracy: 90.91%\n"
     ]
    },
    {
     "name": "stderr",
     "output_type": "stream",
     "text": [
      "Epoch 110/150: 100%|██████████| 782/782 [00:50<00:00, 15.63it/s]\n"
     ]
    },
    {
     "name": "stdout",
     "output_type": "stream",
     "text": [
      "Test Accuracy: 90.62%\n",
      "Epoch 110 - Loss: 0.6023 | Train Accuracy: 98.73% | Test Accuracy: 90.62%\n"
     ]
    },
    {
     "name": "stderr",
     "output_type": "stream",
     "text": [
      "Epoch 111/150: 100%|██████████| 782/782 [00:50<00:00, 15.35it/s]\n"
     ]
    },
    {
     "name": "stdout",
     "output_type": "stream",
     "text": [
      "Test Accuracy: 91.06%\n",
      "This was the best model yet!\n",
      "Epoch 111 - Loss: 0.6022 | Train Accuracy: 98.62% | Test Accuracy: 91.06%\n"
     ]
    },
    {
     "name": "stderr",
     "output_type": "stream",
     "text": [
      "Epoch 112/150: 100%|██████████| 782/782 [00:52<00:00, 14.88it/s]\n"
     ]
    },
    {
     "name": "stdout",
     "output_type": "stream",
     "text": [
      "Test Accuracy: 90.70%\n",
      "Epoch 112 - Loss: 0.6001 | Train Accuracy: 98.81% | Test Accuracy: 90.70%\n"
     ]
    },
    {
     "name": "stderr",
     "output_type": "stream",
     "text": [
      "Epoch 113/150: 100%|██████████| 782/782 [00:50<00:00, 15.60it/s]\n"
     ]
    },
    {
     "name": "stdout",
     "output_type": "stream",
     "text": [
      "Test Accuracy: 90.62%\n",
      "Epoch 113 - Loss: 0.5968 | Train Accuracy: 98.89% | Test Accuracy: 90.62%\n"
     ]
    },
    {
     "name": "stderr",
     "output_type": "stream",
     "text": [
      "Epoch 114/150: 100%|██████████| 782/782 [00:50<00:00, 15.36it/s]\n"
     ]
    },
    {
     "name": "stdout",
     "output_type": "stream",
     "text": [
      "Test Accuracy: 90.72%\n",
      "Epoch 114 - Loss: 0.5956 | Train Accuracy: 98.97% | Test Accuracy: 90.72%\n"
     ]
    },
    {
     "name": "stderr",
     "output_type": "stream",
     "text": [
      "Epoch 115/150: 100%|██████████| 782/782 [00:39<00:00, 19.82it/s]\n"
     ]
    },
    {
     "name": "stdout",
     "output_type": "stream",
     "text": [
      "Test Accuracy: 90.85%\n",
      "Epoch 115 - Loss: 0.5952 | Train Accuracy: 98.92% | Test Accuracy: 90.85%\n"
     ]
    },
    {
     "name": "stderr",
     "output_type": "stream",
     "text": [
      "Epoch 116/150: 100%|██████████| 782/782 [00:51<00:00, 15.32it/s]\n"
     ]
    },
    {
     "name": "stdout",
     "output_type": "stream",
     "text": [
      "Test Accuracy: 91.17%\n",
      "This was the best model yet!\n",
      "Epoch 116 - Loss: 0.5928 | Train Accuracy: 98.98% | Test Accuracy: 91.17%\n"
     ]
    },
    {
     "name": "stderr",
     "output_type": "stream",
     "text": [
      "Epoch 117/150: 100%|██████████| 782/782 [01:00<00:00, 12.98it/s]\n"
     ]
    },
    {
     "name": "stdout",
     "output_type": "stream",
     "text": [
      "Test Accuracy: 90.97%\n",
      "Epoch 117 - Loss: 0.5915 | Train Accuracy: 98.97% | Test Accuracy: 90.97%\n"
     ]
    },
    {
     "name": "stderr",
     "output_type": "stream",
     "text": [
      "Epoch 118/150: 100%|██████████| 782/782 [01:02<00:00, 12.47it/s]\n"
     ]
    },
    {
     "name": "stdout",
     "output_type": "stream",
     "text": [
      "Test Accuracy: 91.05%\n",
      "Epoch 118 - Loss: 0.5888 | Train Accuracy: 99.18% | Test Accuracy: 91.05%\n"
     ]
    },
    {
     "name": "stderr",
     "output_type": "stream",
     "text": [
      "Epoch 119/150: 100%|██████████| 782/782 [01:01<00:00, 12.77it/s]\n"
     ]
    },
    {
     "name": "stdout",
     "output_type": "stream",
     "text": [
      "Test Accuracy: 91.28%\n",
      "This was the best model yet!\n",
      "Epoch 119 - Loss: 0.5878 | Train Accuracy: 99.13% | Test Accuracy: 91.28%\n"
     ]
    },
    {
     "name": "stderr",
     "output_type": "stream",
     "text": [
      "Epoch 120/150: 100%|██████████| 782/782 [01:02<00:00, 12.59it/s]\n"
     ]
    },
    {
     "name": "stdout",
     "output_type": "stream",
     "text": [
      "Test Accuracy: 91.13%\n",
      "Epoch 120 - Loss: 0.5863 | Train Accuracy: 99.15% | Test Accuracy: 91.13%\n"
     ]
    },
    {
     "name": "stderr",
     "output_type": "stream",
     "text": [
      "Epoch 121/150: 100%|██████████| 782/782 [01:01<00:00, 12.77it/s]\n"
     ]
    },
    {
     "name": "stdout",
     "output_type": "stream",
     "text": [
      "Test Accuracy: 91.08%\n",
      "Epoch 121 - Loss: 0.5860 | Train Accuracy: 99.22% | Test Accuracy: 91.08%\n"
     ]
    },
    {
     "name": "stderr",
     "output_type": "stream",
     "text": [
      "Epoch 122/150: 100%|██████████| 782/782 [01:01<00:00, 12.79it/s]\n"
     ]
    },
    {
     "name": "stdout",
     "output_type": "stream",
     "text": [
      "Test Accuracy: 91.31%\n",
      "This was the best model yet!\n",
      "Epoch 122 - Loss: 0.5837 | Train Accuracy: 99.25% | Test Accuracy: 91.31%\n"
     ]
    },
    {
     "name": "stderr",
     "output_type": "stream",
     "text": [
      "Epoch 123/150: 100%|██████████| 782/782 [00:58<00:00, 13.29it/s]\n"
     ]
    },
    {
     "name": "stdout",
     "output_type": "stream",
     "text": [
      "Test Accuracy: 91.25%\n",
      "Epoch 123 - Loss: 0.5828 | Train Accuracy: 99.24% | Test Accuracy: 91.25%\n"
     ]
    },
    {
     "name": "stderr",
     "output_type": "stream",
     "text": [
      "Epoch 124/150: 100%|██████████| 782/782 [01:03<00:00, 12.34it/s]\n"
     ]
    },
    {
     "name": "stdout",
     "output_type": "stream",
     "text": [
      "Test Accuracy: 91.32%\n",
      "This was the best model yet!\n",
      "Epoch 124 - Loss: 0.5819 | Train Accuracy: 99.27% | Test Accuracy: 91.32%\n"
     ]
    },
    {
     "name": "stderr",
     "output_type": "stream",
     "text": [
      "Epoch 125/150: 100%|██████████| 782/782 [01:03<00:00, 12.39it/s]\n"
     ]
    },
    {
     "name": "stdout",
     "output_type": "stream",
     "text": [
      "Test Accuracy: 91.33%\n",
      "This was the best model yet!\n",
      "Epoch 125 - Loss: 0.5802 | Train Accuracy: 99.38% | Test Accuracy: 91.33%\n"
     ]
    },
    {
     "name": "stderr",
     "output_type": "stream",
     "text": [
      "Epoch 126/150: 100%|██████████| 782/782 [01:01<00:00, 12.71it/s]\n"
     ]
    },
    {
     "name": "stdout",
     "output_type": "stream",
     "text": [
      "Test Accuracy: 91.54%\n",
      "This was the best model yet!\n",
      "Epoch 126 - Loss: 0.5797 | Train Accuracy: 99.31% | Test Accuracy: 91.54%\n"
     ]
    },
    {
     "name": "stderr",
     "output_type": "stream",
     "text": [
      "Epoch 127/150:  82%|████████▏ | 643/782 [00:50<00:11, 12.26it/s]"
     ]
    },
    {
     "name": "stdout",
     "output_type": "stream",
     "text": [
      "Test Accuracy: 91.36%\n",
      "Epoch 127 - Loss: 0.5775 | Train Accuracy: 99.43% | Test Accuracy: 91.36%\n"
     ]
    },
    {
     "name": "stderr",
     "output_type": "stream",
     "text": [
      "Epoch 128/150: 100%|██████████| 782/782 [01:00<00:00, 12.84it/s]\n"
     ]
    },
    {
     "name": "stdout",
     "output_type": "stream",
     "text": [
      "Test Accuracy: 91.30%\n",
      "Epoch 128 - Loss: 0.5770 | Train Accuracy: 99.43% | Test Accuracy: 91.30%\n"
     ]
    },
    {
     "name": "stderr",
     "output_type": "stream",
     "text": [
      "Epoch 129/150: 100%|██████████| 782/782 [01:02<00:00, 12.61it/s]\n"
     ]
    },
    {
     "name": "stdout",
     "output_type": "stream",
     "text": [
      "Test Accuracy: 91.19%\n",
      "Epoch 129 - Loss: 0.5756 | Train Accuracy: 99.50% | Test Accuracy: 91.19%\n"
     ]
    },
    {
     "name": "stderr",
     "output_type": "stream",
     "text": [
      "Epoch 130/150: 100%|██████████| 782/782 [01:01<00:00, 12.72it/s]\n"
     ]
    },
    {
     "name": "stdout",
     "output_type": "stream",
     "text": [
      "Test Accuracy: 91.50%\n",
      "Epoch 130 - Loss: 0.5760 | Train Accuracy: 99.49% | Test Accuracy: 91.50%\n"
     ]
    },
    {
     "name": "stderr",
     "output_type": "stream",
     "text": [
      "Epoch 131/150: 100%|██████████| 782/782 [01:01<00:00, 12.65it/s]\n"
     ]
    },
    {
     "name": "stdout",
     "output_type": "stream",
     "text": [
      "Test Accuracy: 91.38%\n",
      "Epoch 131 - Loss: 0.5745 | Train Accuracy: 99.53% | Test Accuracy: 91.38%\n"
     ]
    },
    {
     "name": "stderr",
     "output_type": "stream",
     "text": [
      "Epoch 132/150: 100%|██████████| 782/782 [01:01<00:00, 12.65it/s]\n"
     ]
    },
    {
     "name": "stdout",
     "output_type": "stream",
     "text": [
      "Test Accuracy: 91.33%\n",
      "Epoch 132 - Loss: 0.5738 | Train Accuracy: 99.49% | Test Accuracy: 91.33%\n"
     ]
    },
    {
     "name": "stderr",
     "output_type": "stream",
     "text": [
      "Epoch 133/150: 100%|██████████| 782/782 [01:00<00:00, 12.97it/s]\n"
     ]
    },
    {
     "name": "stdout",
     "output_type": "stream",
     "text": [
      "Test Accuracy: 91.44%\n",
      "Epoch 133 - Loss: 0.5717 | Train Accuracy: 99.63% | Test Accuracy: 91.44%\n"
     ]
    },
    {
     "name": "stderr",
     "output_type": "stream",
     "text": [
      "Epoch 134/150: 100%|██████████| 782/782 [01:01<00:00, 12.72it/s]\n"
     ]
    },
    {
     "name": "stdout",
     "output_type": "stream",
     "text": [
      "Test Accuracy: 91.41%\n",
      "Epoch 134 - Loss: 0.5732 | Train Accuracy: 99.55% | Test Accuracy: 91.41%\n"
     ]
    },
    {
     "name": "stderr",
     "output_type": "stream",
     "text": [
      "Epoch 135/150: 100%|██████████| 782/782 [01:00<00:00, 12.85it/s]\n"
     ]
    },
    {
     "name": "stdout",
     "output_type": "stream",
     "text": [
      "Test Accuracy: 91.48%\n",
      "Epoch 135 - Loss: 0.5709 | Train Accuracy: 99.58% | Test Accuracy: 91.48%\n"
     ]
    },
    {
     "name": "stderr",
     "output_type": "stream",
     "text": [
      "Epoch 136/150: 100%|██████████| 782/782 [01:00<00:00, 12.98it/s]\n"
     ]
    },
    {
     "name": "stdout",
     "output_type": "stream",
     "text": [
      "Test Accuracy: 91.44%\n",
      "Epoch 136 - Loss: 0.5712 | Train Accuracy: 99.62% | Test Accuracy: 91.44%\n"
     ]
    },
    {
     "name": "stderr",
     "output_type": "stream",
     "text": [
      "Epoch 137/150: 100%|██████████| 782/782 [01:02<00:00, 12.57it/s]\n"
     ]
    },
    {
     "name": "stdout",
     "output_type": "stream",
     "text": [
      "Test Accuracy: 91.47%\n",
      "Epoch 137 - Loss: 0.5706 | Train Accuracy: 99.67% | Test Accuracy: 91.47%\n"
     ]
    },
    {
     "name": "stderr",
     "output_type": "stream",
     "text": [
      "Epoch 138/150: 100%|██████████| 782/782 [01:01<00:00, 12.72it/s]\n"
     ]
    },
    {
     "name": "stdout",
     "output_type": "stream",
     "text": [
      "Test Accuracy: 91.45%\n",
      "Epoch 138 - Loss: 0.5700 | Train Accuracy: 99.60% | Test Accuracy: 91.45%\n"
     ]
    },
    {
     "name": "stderr",
     "output_type": "stream",
     "text": [
      "Epoch 139/150: 100%|██████████| 782/782 [01:01<00:00, 12.78it/s]\n"
     ]
    },
    {
     "name": "stdout",
     "output_type": "stream",
     "text": [
      "Test Accuracy: 91.59%\n",
      "This was the best model yet!\n",
      "Epoch 139 - Loss: 0.5695 | Train Accuracy: 99.65% | Test Accuracy: 91.59%\n"
     ]
    },
    {
     "name": "stderr",
     "output_type": "stream",
     "text": [
      "Epoch 140/150: 100%|██████████| 782/782 [01:01<00:00, 12.77it/s]\n"
     ]
    },
    {
     "name": "stdout",
     "output_type": "stream",
     "text": [
      "Test Accuracy: 91.31%\n",
      "Epoch 140 - Loss: 0.5696 | Train Accuracy: 99.61% | Test Accuracy: 91.31%\n"
     ]
    },
    {
     "name": "stderr",
     "output_type": "stream",
     "text": [
      "Epoch 141/150: 100%|██████████| 782/782 [01:00<00:00, 12.94it/s]\n"
     ]
    },
    {
     "name": "stdout",
     "output_type": "stream",
     "text": [
      "Test Accuracy: 91.34%\n",
      "Epoch 141 - Loss: 0.5694 | Train Accuracy: 99.60% | Test Accuracy: 91.34%\n"
     ]
    },
    {
     "name": "stderr",
     "output_type": "stream",
     "text": [
      "Epoch 142/150: 100%|██████████| 782/782 [01:01<00:00, 12.72it/s]\n"
     ]
    },
    {
     "name": "stdout",
     "output_type": "stream",
     "text": [
      "Test Accuracy: 91.61%\n",
      "This was the best model yet!\n",
      "Epoch 142 - Loss: 0.5686 | Train Accuracy: 99.61% | Test Accuracy: 91.61%\n"
     ]
    },
    {
     "name": "stderr",
     "output_type": "stream",
     "text": [
      "Epoch 143/150: 100%|██████████| 782/782 [01:01<00:00, 12.78it/s]\n"
     ]
    },
    {
     "name": "stdout",
     "output_type": "stream",
     "text": [
      "Test Accuracy: 91.54%\n",
      "Epoch 143 - Loss: 0.5686 | Train Accuracy: 99.63% | Test Accuracy: 91.54%\n"
     ]
    },
    {
     "name": "stderr",
     "output_type": "stream",
     "text": [
      "Epoch 144/150: 100%|██████████| 782/782 [01:02<00:00, 12.49it/s]\n"
     ]
    },
    {
     "name": "stdout",
     "output_type": "stream",
     "text": [
      "Test Accuracy: 91.44%\n",
      "Epoch 144 - Loss: 0.5686 | Train Accuracy: 99.63% | Test Accuracy: 91.44%\n"
     ]
    },
    {
     "name": "stderr",
     "output_type": "stream",
     "text": [
      "Epoch 145/150: 100%|██████████| 782/782 [01:00<00:00, 12.90it/s]\n"
     ]
    },
    {
     "name": "stdout",
     "output_type": "stream",
     "text": [
      "Test Accuracy: 91.44%\n",
      "Epoch 145 - Loss: 0.5682 | Train Accuracy: 99.64% | Test Accuracy: 91.44%\n"
     ]
    },
    {
     "name": "stderr",
     "output_type": "stream",
     "text": [
      "Epoch 146/150: 100%|██████████| 782/782 [01:01<00:00, 12.70it/s]\n"
     ]
    },
    {
     "name": "stdout",
     "output_type": "stream",
     "text": [
      "Test Accuracy: 91.52%\n",
      "Epoch 146 - Loss: 0.5678 | Train Accuracy: 99.63% | Test Accuracy: 91.52%\n"
     ]
    },
    {
     "name": "stderr",
     "output_type": "stream",
     "text": [
      "Epoch 147/150: 100%|██████████| 782/782 [01:01<00:00, 12.74it/s]\n"
     ]
    },
    {
     "name": "stdout",
     "output_type": "stream",
     "text": [
      "Test Accuracy: 91.48%\n",
      "Epoch 147 - Loss: 0.5684 | Train Accuracy: 99.67% | Test Accuracy: 91.48%\n"
     ]
    },
    {
     "name": "stderr",
     "output_type": "stream",
     "text": [
      "Epoch 148/150: 100%|██████████| 782/782 [00:59<00:00, 13.11it/s]\n"
     ]
    },
    {
     "name": "stdout",
     "output_type": "stream",
     "text": [
      "Test Accuracy: 91.47%\n",
      "Epoch 148 - Loss: 0.5683 | Train Accuracy: 99.65% | Test Accuracy: 91.47%\n"
     ]
    },
    {
     "name": "stderr",
     "output_type": "stream",
     "text": [
      "Epoch 149/150: 100%|██████████| 782/782 [01:01<00:00, 12.63it/s]\n"
     ]
    },
    {
     "name": "stdout",
     "output_type": "stream",
     "text": [
      "Test Accuracy: 91.37%\n",
      "Epoch 149 - Loss: 0.5682 | Train Accuracy: 99.67% | Test Accuracy: 91.37%\n"
     ]
    },
    {
     "name": "stderr",
     "output_type": "stream",
     "text": [
      "Epoch 150/150: 100%|██████████| 782/782 [01:00<00:00, 12.84it/s]\n"
     ]
    },
    {
     "name": "stdout",
     "output_type": "stream",
     "text": [
      "Test Accuracy: 91.62%\n",
      "This was the best model yet!\n",
      "Epoch 150 - Loss: 0.5676 | Train Accuracy: 99.65% | Test Accuracy: 91.62%\n",
      "Test Accuracy: 91.62%\n",
      "\n",
      "Final Test Accuracy using best model: 91.62%\n"
     ]
    }
   ],
   "source": [
    "model.to(device)\n",
    "print(f\"Model is actually on: {next(model.parameters()).device}\")\n",
    "\n",
    "epochs = 150\n",
    "# Loss & optimizer\n",
    "criterion = nn.CrossEntropyLoss(label_smoothing=0.1)\n",
    "optimizer = optim.AdamW(model.parameters(), lr=0.01, weight_decay=0.005)\n",
    "scheduler = torch.optim.lr_scheduler.CosineAnnealingLR(optimizer, T_max=epochs)\n",
    "\n",
    "def evaluate(model, test_loader, device):\n",
    "    model.eval()\n",
    "    correct = 0\n",
    "    total = 0\n",
    "\n",
    "    with torch.no_grad():\n",
    "        for images, labels in test_loader:\n",
    "            images, labels = images.to(device), labels.to(device)\n",
    "\n",
    "            outputs = model(images)\n",
    "\n",
    "            preds = torch.argmax(outputs, dim=1)\n",
    "            correct += (preds == labels).sum().item()\n",
    "            total += labels.size(0)\n",
    "\n",
    "    accuracy = correct / total\n",
    "    print(f\"Test Accuracy: {accuracy * 100:.2f}%\")\n",
    "    return accuracy\n",
    "\n",
    "for epoch in range(epochs):\n",
    "    model.train()\n",
    "    running_loss = 0.0\n",
    "    correct = 0\n",
    "    total = 0\n",
    "\n",
    "    for inputs, labels in tqdm(training_loader, desc=f\"Epoch {epoch+1}/{epochs}\"):\n",
    "        inputs, labels = inputs.to(device), labels.to(device)\n",
    "\n",
    "        optimizer.zero_grad()\n",
    "        outputs = model(inputs)\n",
    "\n",
    "        loss = criterion(outputs, labels)\n",
    "        loss.backward()\n",
    "        optimizer.step()\n",
    "\n",
    "        running_loss += loss.item()\n",
    "        train_batch_losses.append(loss.item())  \n",
    "\n",
    "        preds = outputs.argmax(dim=1)\n",
    "        correct += (preds == labels).sum().item()\n",
    "        total += labels.size(0)\n",
    "\n",
    "    scheduler.step()\n",
    "\n",
    "    train_acc = correct / total\n",
    "    train_epoch_accuracies.append(train_acc) \n",
    "\n",
    "    test_acc = evaluate(model, test_loader, device)  \n",
    "    test_epoch_accuracies.append(test_acc)          \n",
    "\n",
    "    if test_acc > best_test_accuracy:\n",
    "        best_test_accuracy = test_acc\n",
    "        best_model_state = model.state_dict()\n",
    "        print('This was the best model yet!')\n",
    "        # Save best model in memory\n",
    "\n",
    "    print(f\"Epoch {epoch+1} - Loss: {running_loss / len(training_loader):.4f} | \"\n",
    "          f\"Train Accuracy: {train_acc*100:.2f}% | Test Accuracy: {test_acc*100:.2f}%\")\n",
    "\n",
    "\n",
    "model.load_state_dict(best_model_state)\n",
    "final_test_acc = evaluate(model, test_loader, device)\n",
    "print(f\"\\nFinal Test Accuracy using best model: {final_test_acc*100:.2f}%\")"
   ]
  },
  {
   "cell_type": "code",
   "execution_count": 9,
   "id": "0c6cf265-0471-4847-8872-d50b515568a4",
   "metadata": {},
   "outputs": [
    {
     "name": "stdout",
     "output_type": "stream",
     "text": [
      "Best test accuracy: 0.9162\n"
     ]
    },
    {
     "data": {
      "image/png": "[encoded data removed]",
      "text/plain": [
       "<Figure size 1000x400 with 1 Axes>"
      ]
     },
     "metadata": {},
     "output_type": "display_data"
    },
    {
     "data": {
      "image/png": "[encoded data removed]",
      "text/plain": [
       "<Figure size 1000x400 with 1 Axes>"
      ]
     },
     "metadata": {},
     "output_type": "display_data"
    }
   ],
   "source": [
    "print(f'Best test accuracy: {best_test_accuracy}')\n",
    "\n",
    "plt.figure(figsize=(10, 4))\n",
    "plt.plot(train_batch_losses, label='Batch Loss')\n",
    "plt.title('Training Loss per Batch')\n",
    "plt.xlabel('Batch Number')\n",
    "plt.ylabel('Loss')\n",
    "plt.legend()\n",
    "plt.grid(True)\n",
    "plt.show()\n",
    "\n",
    "plt.figure(figsize=(10, 4))\n",
    "plt.plot(train_epoch_accuracies, label='Train Accuracy')\n",
    "plt.plot(test_epoch_accuracies, label='Test Accuracy')\n",
    "plt.title('Accuracy per Epoch')\n",
    "plt.xlabel('Epoch')\n",
    "plt.ylabel('Accuracy')\n",
    "plt.legend()\n",
    "plt.grid(True)\n",
    "plt.show()"
   ]
  }
 ],
 "metadata": {
  "kernelspec": {
   "display_name": "Python 3 (ipykernel)",
   "language": "python",
   "name": "python3"
  },
  "language_info": {
   "codemirror_mode": {
    "name": "ipython",
    "version": 3
   },
   "file_extension": ".py",
   "mimetype": "text/x-python",
   "name": "python",
   "nbconvert_exporter": "python",
   "pygments_lexer": "ipython3",
   "version": "3.11.7"
  }
 },
 "nbformat": 4,
 "nbformat_minor": 5
}
